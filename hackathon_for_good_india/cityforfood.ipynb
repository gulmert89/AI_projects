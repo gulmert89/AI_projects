{
  "nbformat": 4,
  "nbformat_minor": 0,
  "metadata": {
    "colab": {
      "name": "cityforfood.ipynb",
      "provenance": [],
      "collapsed_sections": [],
      "include_colab_link": true
    },
    "kernelspec": {
      "name": "python3",
      "display_name": "Python 3"
    },
    "accelerator": "GPU"
  },
  "cells": [
    {
      "cell_type": "markdown",
      "metadata": {
        "id": "view-in-github",
        "colab_type": "text"
      },
      "source": [
        "<a href=\"https://colab.research.google.com/github/gulmert89/projects/blob/main/hackathon_for_good_india/cityforfood.ipynb\" target=\"_parent\"><img src=\"https://colab.research.google.com/assets/colab-badge.svg\" alt=\"Open In Colab\"/></a>"
      ]
    },
    {
      "cell_type": "markdown",
      "metadata": {
        "id": "PA4JCnmNLsMG"
      },
      "source": [
        "# Hackathon for Good India: Code Base of Team-CityForFood"
      ]
    },
    {
      "cell_type": "markdown",
      "metadata": {
        "id": "O4U7KTO0AkM4"
      },
      "source": [
        "Soil temperature directly affects plant growth.  In other words, nearly every crop slows down its growth when soil temperatures are below 9 and above 50 degree Celsius. Germination of various seeds requires different soil temperature ranges.  For example, maize starts to germinate at soil temperatures from 7 to 10 degree. Most organisms within soil thrive at temperatures between 25-35 degrees. Nitrification requires a soil temperature of 32C.<br>\n",
        "\n",
        "An AI model which gives the farmers estimates about the crop growth, the crop yield, and recommendations for products to make the yield better.\n",
        "\n",
        "Since it is not always possible to get soil information (but relatively easy to obtain weather data), we created a model that predicts the **soil temperature** by using only three information in this hackathon's scope:<br>\n",
        "* **Temperature (C)**\n",
        "* **Relative Humidity (%)**\n",
        "* **Wind Speed (km/h)** \n",
        "\n",
        "The only thing farmer should do is open his/her Location Services on the cellphone and the application will show the farmer (and the expert at the other side as well) the required data like:\n",
        "\n",
        "* Weather Forecast Summary\n",
        "* Temperature\n",
        "* Soil Temperature\n",
        "* Predicted Soil Temperature **(Using Deep Learning model)**\n",
        "* Soil Moisture\n",
        "* Humidity\n",
        "* Air Quality Index etc.\n",
        "\n",
        "According to the temperature, the expert and the farmer will know if planting their seeds is suitable at that time frame or not.\n",
        "\n",
        "Also,<br>\n",
        "The app will provide a QR Code that shows these specifications listed above to the farmer. So if he/she likes, this QR Code could be attached to the product so that the customer gets information about the food that is harvested at that time.\n",
        "***"
      ]
    },
    {
      "cell_type": "markdown",
      "metadata": {
        "id": "Smp86MptPja-"
      },
      "source": [
        "# 1\\. Introduction"
      ]
    },
    {
      "cell_type": "markdown",
      "metadata": {
        "id": "lpe2p8D_RPZl"
      },
      "source": [
        "## 1.1 Importing Our Modules"
      ]
    },
    {
      "cell_type": "code",
      "metadata": {
        "id": "tYmJ2uGTLjL8"
      },
      "source": [
        "import os\n",
        "import datetime\n",
        "import requests\n",
        "import numpy as np\n",
        "import pandas as pd\n",
        "import seaborn as sns\n",
        "import matplotlib.pyplot as plt"
      ],
      "execution_count": null,
      "outputs": []
    },
    {
      "cell_type": "markdown",
      "metadata": {
        "id": "xhcLaIbRRUTw"
      },
      "source": [
        "## 1.2 Cosmetic Configurations"
      ]
    },
    {
      "cell_type": "code",
      "metadata": {
        "id": "5sRNS0RYIwSo"
      },
      "source": [
        "sns.set_style(style=\"whitegrid\")\n",
        "\n",
        "title_font = {\"family\":\"sans-serif\", \n",
        "              \"weight\":\"bold\", \n",
        "              \"color\":\"darkgreen\", \n",
        "              \"size\":16}\n",
        "\n",
        "axis_font = {\"family\":\"serif\", \n",
        "             \"weight\":\"normal\", \n",
        "             \"color\":\"darkgreen\", \n",
        "             \"size\":14}"
      ],
      "execution_count": null,
      "outputs": []
    },
    {
      "cell_type": "markdown",
      "metadata": {
        "id": "iOFoK9nrRkmu"
      },
      "source": [
        "# 2\\. The Database\n",
        "Pulling data from Ambee Database"
      ]
    },
    {
      "cell_type": "code",
      "metadata": {
        "id": "PSaeRMkZ79R3"
      },
      "source": [
        "url_soil_history = \"https://api.ambeedata.com/soil/history/by-lat-lng?\\\n",
        "lat=17.39359&lng=78.4642&\\\n",
        "startDate=2018-01-01T12:16:44&endDate=2020-11-11T12:16:44\"\n",
        "\n",
        "querystring_soil = {}\n",
        "headers = {\n",
        "    'x-api-key': \"BkY0NYZmqG3PEJ776SjzzajD1VsdqZrh6CkyAqUt\",\n",
        "    'Content-type': \"application/json\"}\n",
        "\n",
        "response_soil = requests.request(\"GET\", url_soil_history, \n",
        "                                 headers=headers, \n",
        "                                 params=querystring_soil)"
      ],
      "execution_count": null,
      "outputs": []
    },
    {
      "cell_type": "code",
      "metadata": {
        "id": "Y2bFYclN8mJG"
      },
      "source": [
        "response_dict_soil = eval(response_soil.text)[\"data\"]\n",
        "response_dict_soil = pd.DataFrame(response_dict_soil).iloc[:, 1:]"
      ],
      "execution_count": null,
      "outputs": []
    },
    {
      "cell_type": "code",
      "metadata": {
        "colab": {
          "base_uri": "https://localhost:8080/",
          "height": 204
        },
        "id": "D2FT_arxZDdZ",
        "outputId": "4448aeb3-bb75-4af3-b852-9bc6198a8281"
      },
      "source": [
        "response_dict_soil.tail()"
      ],
      "execution_count": null,
      "outputs": [
        {
          "output_type": "execute_result",
          "data": {
            "text/html": [
              "<div>\n",
              "<style scoped>\n",
              "    .dataframe tbody tr th:only-of-type {\n",
              "        vertical-align: middle;\n",
              "    }\n",
              "\n",
              "    .dataframe tbody tr th {\n",
              "        vertical-align: top;\n",
              "    }\n",
              "\n",
              "    .dataframe thead th {\n",
              "        text-align: right;\n",
              "    }\n",
              "</style>\n",
              "<table border=\"1\" class=\"dataframe\">\n",
              "  <thead>\n",
              "    <tr style=\"text-align: right;\">\n",
              "      <th></th>\n",
              "      <th>scantime</th>\n",
              "      <th>soil_temperature</th>\n",
              "      <th>soil_moisture</th>\n",
              "    </tr>\n",
              "  </thead>\n",
              "  <tbody>\n",
              "    <tr>\n",
              "      <th>19</th>\n",
              "      <td>2020-10-05T08:04:08.123Z</td>\n",
              "      <td>28.450006</td>\n",
              "      <td>16.000000</td>\n",
              "    </tr>\n",
              "    <tr>\n",
              "      <th>20</th>\n",
              "      <td>2020-10-03T08:16:30.455Z</td>\n",
              "      <td>29.350000</td>\n",
              "      <td>19.333334</td>\n",
              "    </tr>\n",
              "    <tr>\n",
              "      <th>21</th>\n",
              "      <td>2020-10-03T08:16:28.955Z</td>\n",
              "      <td>28.850000</td>\n",
              "      <td>14.000000</td>\n",
              "    </tr>\n",
              "    <tr>\n",
              "      <th>22</th>\n",
              "      <td>2020-10-01T08:29:13.789Z</td>\n",
              "      <td>27.050012</td>\n",
              "      <td>15.666667</td>\n",
              "    </tr>\n",
              "    <tr>\n",
              "      <th>23</th>\n",
              "      <td>2020-10-01T08:29:12.289Z</td>\n",
              "      <td>27.350000</td>\n",
              "      <td>15.666667</td>\n",
              "    </tr>\n",
              "  </tbody>\n",
              "</table>\n",
              "</div>"
            ],
            "text/plain": [
              "                    scantime  soil_temperature  soil_moisture\n",
              "19  2020-10-05T08:04:08.123Z         28.450006      16.000000\n",
              "20  2020-10-03T08:16:30.455Z         29.350000      19.333334\n",
              "21  2020-10-03T08:16:28.955Z         28.850000      14.000000\n",
              "22  2020-10-01T08:29:13.789Z         27.050012      15.666667\n",
              "23  2020-10-01T08:29:12.289Z         27.350000      15.666667"
            ]
          },
          "metadata": {
            "tags": []
          },
          "execution_count": 10
        }
      ]
    },
    {
      "cell_type": "markdown",
      "metadata": {
        "id": "yiFhgp-0BZuy"
      },
      "source": [
        "As can be seen above, there are only 23 data pulled on the database. Our deep learning model wouldn't be able to extract features and learn the patterns out of such a small dataset. We need to acquire at least a couple of hundred data to train our model.<br>Another source is used and can be visited from this [link](https://www.meteoblue.com/en/weather/archive/export/hyderabad_india_1269843?daterange=2020-11-07%20to%202020-11-21&min=2020-11-07&max=2020-11-21&domain=NEMSAUTO&params=&params%5B%5D=temp2m&params%5B%5D=relhum2m&params%5B%5D=precip&params%5B%5D=sunshine&params%5B%5D=swrad&params%5B%5D=directrad&params%5B%5D=diffuserad&params%5B%5D=wind%2Bdir10m&params%5B%5D=soiltemp0to10&params%5B%5D=soilmoist0to10&utc_offset=5.5&timeResolution=hourly&temperatureunit=CELSIUS&velocityunit=KILOMETER_PER_HOUR&energyunit=watts&lengthunit=metric). The location is selected as: **Hyderabad**"
      ]
    },
    {
      "cell_type": "code",
      "metadata": {
        "colab": {
          "base_uri": "https://localhost:8080/",
          "height": 376
        },
        "id": "8DOm40AtBZUQ",
        "outputId": "56b1d506-5409-4f0d-8d14-6e446c34f733"
      },
      "source": [
        "soil_df = pd.read_csv(\"weather_and_soil_data.csv\")\n",
        "soil_df.head(10)"
      ],
      "execution_count": null,
      "outputs": [
        {
          "output_type": "execute_result",
          "data": {
            "text/html": [
              "<div>\n",
              "<style scoped>\n",
              "    .dataframe tbody tr th:only-of-type {\n",
              "        vertical-align: middle;\n",
              "    }\n",
              "\n",
              "    .dataframe tbody tr th {\n",
              "        vertical-align: top;\n",
              "    }\n",
              "\n",
              "    .dataframe thead th {\n",
              "        text-align: right;\n",
              "    }\n",
              "</style>\n",
              "<table border=\"1\" class=\"dataframe\">\n",
              "  <thead>\n",
              "    <tr style=\"text-align: right;\">\n",
              "      <th></th>\n",
              "      <th>location</th>\n",
              "      <th>Hyderabad</th>\n",
              "      <th>Hyderabad.1</th>\n",
              "      <th>Hyderabad.2</th>\n",
              "      <th>Hyderabad.3</th>\n",
              "      <th>Hyderabad.4</th>\n",
              "    </tr>\n",
              "  </thead>\n",
              "  <tbody>\n",
              "    <tr>\n",
              "      <th>0</th>\n",
              "      <td>lat</td>\n",
              "      <td>17.39359</td>\n",
              "      <td>17.39359</td>\n",
              "      <td>17.39359</td>\n",
              "      <td>17.39359</td>\n",
              "      <td>17.39359</td>\n",
              "    </tr>\n",
              "    <tr>\n",
              "      <th>1</th>\n",
              "      <td>lon</td>\n",
              "      <td>78.4642</td>\n",
              "      <td>78.4642</td>\n",
              "      <td>78.4642</td>\n",
              "      <td>78.4642</td>\n",
              "      <td>78.4642</td>\n",
              "    </tr>\n",
              "    <tr>\n",
              "      <th>2</th>\n",
              "      <td>timestamp</td>\n",
              "      <td>Temperature ( C)</td>\n",
              "      <td>Relative Humidity (%)</td>\n",
              "      <td>Wind Speed (km/h)</td>\n",
              "      <td>Soil Moisture (m3/m3)</td>\n",
              "      <td>Soil Temperature ( C)</td>\n",
              "    </tr>\n",
              "    <tr>\n",
              "      <th>3</th>\n",
              "      <td>20201107T0000</td>\n",
              "      <td>23.6929</td>\n",
              "      <td>74</td>\n",
              "      <td>6.924738</td>\n",
              "      <td>0.218</td>\n",
              "      <td>24.690002</td>\n",
              "    </tr>\n",
              "    <tr>\n",
              "      <th>4</th>\n",
              "      <td>20201107T0100</td>\n",
              "      <td>23.1429</td>\n",
              "      <td>77</td>\n",
              "      <td>6.9527545</td>\n",
              "      <td>0.218</td>\n",
              "      <td>24.179993</td>\n",
              "    </tr>\n",
              "    <tr>\n",
              "      <th>5</th>\n",
              "      <td>20201107T0200</td>\n",
              "      <td>22.6429</td>\n",
              "      <td>80</td>\n",
              "      <td>7.10031</td>\n",
              "      <td>0.218</td>\n",
              "      <td>23.730011</td>\n",
              "    </tr>\n",
              "    <tr>\n",
              "      <th>6</th>\n",
              "      <td>20201107T0300</td>\n",
              "      <td>22.1929</td>\n",
              "      <td>82</td>\n",
              "      <td>7.2</td>\n",
              "      <td>0.218</td>\n",
              "      <td>23.330017</td>\n",
              "    </tr>\n",
              "    <tr>\n",
              "      <th>7</th>\n",
              "      <td>20201107T0400</td>\n",
              "      <td>21.8229</td>\n",
              "      <td>84</td>\n",
              "      <td>7.10031</td>\n",
              "      <td>0.219</td>\n",
              "      <td>22.970001</td>\n",
              "    </tr>\n",
              "    <tr>\n",
              "      <th>8</th>\n",
              "      <td>20201107T0500</td>\n",
              "      <td>21.4929</td>\n",
              "      <td>87</td>\n",
              "      <td>6.6087217</td>\n",
              "      <td>0.219</td>\n",
              "      <td>22.640015</td>\n",
              "    </tr>\n",
              "    <tr>\n",
              "      <th>9</th>\n",
              "      <td>20201107T0600</td>\n",
              "      <td>21.2029</td>\n",
              "      <td>89</td>\n",
              "      <td>5.815978</td>\n",
              "      <td>0.219</td>\n",
              "      <td>22.360016</td>\n",
              "    </tr>\n",
              "  </tbody>\n",
              "</table>\n",
              "</div>"
            ],
            "text/plain": [
              "        location  ...            Hyderabad.4\n",
              "0            lat  ...               17.39359\n",
              "1            lon  ...                78.4642\n",
              "2      timestamp  ...  Soil Temperature ( C)\n",
              "3  20201107T0000  ...              24.690002\n",
              "4  20201107T0100  ...              24.179993\n",
              "5  20201107T0200  ...              23.730011\n",
              "6  20201107T0300  ...              23.330017\n",
              "7  20201107T0400  ...              22.970001\n",
              "8  20201107T0500  ...              22.640015\n",
              "9  20201107T0600  ...              22.360016\n",
              "\n",
              "[10 rows x 6 columns]"
            ]
          },
          "metadata": {
            "tags": []
          },
          "execution_count": 86
        }
      ]
    },
    {
      "cell_type": "markdown",
      "metadata": {
        "id": "PANAYk5DSuk3"
      },
      "source": [
        "# 3\\. Data Cleaning and Preparation"
      ]
    },
    {
      "cell_type": "markdown",
      "metadata": {
        "id": "8ocnApgMTfTH"
      },
      "source": [
        "## 3.1 Getting The Dataset Ready"
      ]
    },
    {
      "cell_type": "code",
      "metadata": {
        "id": "VJ1H1GV-B4Fw"
      },
      "source": [
        "soil_df.columns = list(soil_df.iloc[2, :])\n",
        "soil_df = soil_df.iloc[3:, :]\n",
        "soil_df.reset_index(inplace=True)\n",
        "soil_df.drop([\"index\", \"Soil Moisture (m3/m3)\"], axis=1, inplace=True)\n",
        "\n",
        "convert_columns = list(soil_df.columns[1:])\n",
        "soil_df[convert_columns] = soil_df[convert_columns].astype(\"float32\")"
      ],
      "execution_count": null,
      "outputs": []
    },
    {
      "cell_type": "code",
      "metadata": {
        "colab": {
          "base_uri": "https://localhost:8080/"
        },
        "id": "rQBdNinJDcTP",
        "outputId": "132653c8-cc53-448c-b165-29c53198d130"
      },
      "source": [
        "soil_df.info()"
      ],
      "execution_count": null,
      "outputs": [
        {
          "output_type": "stream",
          "text": [
            "<class 'pandas.core.frame.DataFrame'>\n",
            "RangeIndex: 360 entries, 0 to 359\n",
            "Data columns (total 5 columns):\n",
            " #   Column                 Non-Null Count  Dtype  \n",
            "---  ------                 --------------  -----  \n",
            " 0   timestamp              360 non-null    object \n",
            " 1   Temperature ( C)       360 non-null    float32\n",
            " 2   Relative Humidity (%)  360 non-null    float32\n",
            " 3   Wind Speed (km/h)      360 non-null    float32\n",
            " 4   Soil Temperature ( C)  360 non-null    float32\n",
            "dtypes: float32(4), object(1)\n",
            "memory usage: 8.6+ KB\n"
          ],
          "name": "stdout"
        }
      ]
    },
    {
      "cell_type": "markdown",
      "metadata": {
        "id": "hPZTMu-9Sz2q"
      },
      "source": [
        "Now we have 360 data points instead of 23. This is still quite low for a deep learning model but it was not possible due to website restrictions.<br>We can see the cleaned data frame just below."
      ]
    },
    {
      "cell_type": "code",
      "metadata": {
        "colab": {
          "base_uri": "https://localhost:8080/",
          "height": 204
        },
        "id": "It3DpMeJB_hX",
        "outputId": "686ba2e9-60fb-426d-d873-23827d227d75"
      },
      "source": [
        "soil_df.head()"
      ],
      "execution_count": null,
      "outputs": [
        {
          "output_type": "execute_result",
          "data": {
            "text/html": [
              "<div>\n",
              "<style scoped>\n",
              "    .dataframe tbody tr th:only-of-type {\n",
              "        vertical-align: middle;\n",
              "    }\n",
              "\n",
              "    .dataframe tbody tr th {\n",
              "        vertical-align: top;\n",
              "    }\n",
              "\n",
              "    .dataframe thead th {\n",
              "        text-align: right;\n",
              "    }\n",
              "</style>\n",
              "<table border=\"1\" class=\"dataframe\">\n",
              "  <thead>\n",
              "    <tr style=\"text-align: right;\">\n",
              "      <th></th>\n",
              "      <th>timestamp</th>\n",
              "      <th>Temperature ( C)</th>\n",
              "      <th>Relative Humidity (%)</th>\n",
              "      <th>Wind Speed (km/h)</th>\n",
              "      <th>Soil Temperature ( C)</th>\n",
              "    </tr>\n",
              "  </thead>\n",
              "  <tbody>\n",
              "    <tr>\n",
              "      <th>0</th>\n",
              "      <td>20201107T0000</td>\n",
              "      <td>23.692900</td>\n",
              "      <td>74.0</td>\n",
              "      <td>6.924738</td>\n",
              "      <td>24.690002</td>\n",
              "    </tr>\n",
              "    <tr>\n",
              "      <th>1</th>\n",
              "      <td>20201107T0100</td>\n",
              "      <td>23.142900</td>\n",
              "      <td>77.0</td>\n",
              "      <td>6.952754</td>\n",
              "      <td>24.179993</td>\n",
              "    </tr>\n",
              "    <tr>\n",
              "      <th>2</th>\n",
              "      <td>20201107T0200</td>\n",
              "      <td>22.642900</td>\n",
              "      <td>80.0</td>\n",
              "      <td>7.100310</td>\n",
              "      <td>23.730011</td>\n",
              "    </tr>\n",
              "    <tr>\n",
              "      <th>3</th>\n",
              "      <td>20201107T0300</td>\n",
              "      <td>22.192900</td>\n",
              "      <td>82.0</td>\n",
              "      <td>7.200000</td>\n",
              "      <td>23.330017</td>\n",
              "    </tr>\n",
              "    <tr>\n",
              "      <th>4</th>\n",
              "      <td>20201107T0400</td>\n",
              "      <td>21.822901</td>\n",
              "      <td>84.0</td>\n",
              "      <td>7.100310</td>\n",
              "      <td>22.970001</td>\n",
              "    </tr>\n",
              "  </tbody>\n",
              "</table>\n",
              "</div>"
            ],
            "text/plain": [
              "       timestamp  Temperature ( C)  ...  Wind Speed (km/h)  Soil Temperature ( C)\n",
              "0  20201107T0000         23.692900  ...           6.924738              24.690002\n",
              "1  20201107T0100         23.142900  ...           6.952754              24.179993\n",
              "2  20201107T0200         22.642900  ...           7.100310              23.730011\n",
              "3  20201107T0300         22.192900  ...           7.200000              23.330017\n",
              "4  20201107T0400         21.822901  ...           7.100310              22.970001\n",
              "\n",
              "[5 rows x 5 columns]"
            ]
          },
          "metadata": {
            "tags": []
          },
          "execution_count": 89
        }
      ]
    },
    {
      "cell_type": "markdown",
      "metadata": {
        "id": "hKs37lexTOyg"
      },
      "source": [
        "## 3.2 Preprocessing Our Data"
      ]
    },
    {
      "cell_type": "code",
      "metadata": {
        "id": "670zAGEMFoTL"
      },
      "source": [
        "from keras import models, layers\n",
        "from keras.optimizers import Adam, schedules\n",
        "from sklearn.model_selection import train_test_split\n",
        "from sklearn.preprocessing import MinMaxScaler, StandardScaler"
      ],
      "execution_count": null,
      "outputs": []
    },
    {
      "cell_type": "code",
      "metadata": {
        "id": "r1fKA0muFXUK"
      },
      "source": [
        "X_train = np.array(soil_df.drop([\"Soil Temperature ( C)\", \"timestamp\"], axis=1))\n",
        "y_train = np.array(soil_df[\"Soil Temperature ( C)\"])\n",
        "X_train, X_test, y_train, y_test = train_test_split(X_train, y_train,\n",
        "                                                    test_size=0.20,\n",
        "                                                    shuffle=True)"
      ],
      "execution_count": null,
      "outputs": []
    },
    {
      "cell_type": "code",
      "metadata": {
        "id": "SuBLFjxCF1RO"
      },
      "source": [
        "scale = StandardScaler()\n",
        "normalize = MinMaxScaler((0, 1))\n",
        "\n",
        "# normalized set: values are between [0, 1]\n",
        "X_train = normalize.fit_transform(X_train)\n",
        "X_test = normalize.fit_transform(X_test)"
      ],
      "execution_count": null,
      "outputs": []
    },
    {
      "cell_type": "markdown",
      "metadata": {
        "id": "lRP9-4i8TwNy"
      },
      "source": [
        "# 4\\. Creating The Model"
      ]
    },
    {
      "cell_type": "markdown",
      "metadata": {
        "id": "gqmyQ4O9OYbN"
      },
      "source": [
        "## 4.1 Monitoring The Performance\n",
        "Here we prepare the TensorBoard configuration to monitor the model's performance below. After creating and running the model, we will constantly refer to TensorBoard API shown below."
      ]
    },
    {
      "cell_type": "code",
      "metadata": {
        "id": "B7S6dEDkOlJ-"
      },
      "source": [
        "# Load the TensorBoard notebook extension:\n",
        "from keras.callbacks import TensorBoard\n",
        "from tensorboard import notebook as tb_notebook\n",
        "%load_ext tensorboard"
      ],
      "execution_count": null,
      "outputs": []
    },
    {
      "cell_type": "code",
      "metadata": {
        "id": "eturwqrvOlt_"
      },
      "source": [
        "# To run the TensorBoard:\n",
        "%tensorboard --logdir my_log_dir"
      ],
      "execution_count": null,
      "outputs": []
    },
    {
      "cell_type": "markdown",
      "metadata": {
        "id": "RoTXRmx6L3-9"
      },
      "source": [
        "We replaced the API with these sample images since the API itself only works while the codes are running too.<br>The main idea here is to reduce the cost function's output and get the minimum loss out of it. It can be seen from the graphs that multiple models were tried and the most successful one was selected so that the **Mean Absolute Error (MAE)** hit the minimum value."
      ]
    },
    {
      "cell_type": "markdown",
      "metadata": {
        "id": "UWIDXH9gM4-0"
      },
      "source": [
        "![TensorBoard Example 1](https://i.pinimg.com/originals/2b/b2/57/2bb257362000ecd24cfdb8c2deef18d4.jpg)"
      ]
    },
    {
      "cell_type": "markdown",
      "metadata": {
        "id": "1ZrC9TWIVLym"
      },
      "source": [
        "Above graph tells us that after nearly 200 trials (epochs), the model succeeded to minimize the loss function and it became almost zero. However we kept it running up to 1000 epochs to make sure mean absolute error hit zero as well. "
      ]
    },
    {
      "cell_type": "markdown",
      "metadata": {
        "id": "Y_7bFu0kNH1-"
      },
      "source": [
        "The structure of our sample models:"
      ]
    },
    {
      "cell_type": "markdown",
      "metadata": {
        "id": "Ko3ez7WwM931"
      },
      "source": [
        "![TensorBoard Example 2](https://i.pinimg.com/originals/25/b0/77/25b077ed32708a7f844d3d37d2cbb729.png)"
      ]
    },
    {
      "cell_type": "markdown",
      "metadata": {
        "id": "mqF8iF91XK6M"
      },
      "source": [
        "## 4.2 Prepare The Model"
      ]
    },
    {
      "cell_type": "code",
      "metadata": {
        "id": "j6ptRsYIFUQI"
      },
      "source": [
        "# to avoid repeating the layers\n",
        "def dense_layer(unit):\n",
        "    model.add(layers.Dense(units=unit))\n",
        "    model.add(layers.BatchNormalization())\n",
        "    model.add(layers.Activation(\"relu\"))\n",
        "    model.add(layers.Dropout(0.15))"
      ],
      "execution_count": null,
      "outputs": []
    },
    {
      "cell_type": "code",
      "metadata": {
        "colab": {
          "base_uri": "https://localhost:8080/"
        },
        "id": "XV4cw4GUFr1O",
        "outputId": "9ed82909-5614-4ac8-d26c-8b810525781d"
      },
      "source": [
        "model = models.Sequential()\n",
        "model.add(layers.Dense(units=128,\n",
        "                       input_shape=(X_train.shape[1], ), \n",
        "                       kernel_initializer=\"GlorotUniform\", \n",
        "                       name=\"Hidden_Layer1\"))\n",
        "model.add(layers.BatchNormalization())\n",
        "model.add(layers.Activation(\"relu\"))\n",
        "dense_layer(128)\n",
        "dense_layer(256)\n",
        "dense_layer(256)\n",
        "model.add(layers.Dense(1, name=\"Output_Layer\"))\n",
        "model.summary()"
      ],
      "execution_count": null,
      "outputs": [
        {
          "output_type": "stream",
          "text": [
            "Model: \"sequential_4\"\n",
            "_________________________________________________________________\n",
            "Layer (type)                 Output Shape              Param #   \n",
            "=================================================================\n",
            "Hidden_Layer1 (Dense)        (None, 128)               512       \n",
            "_________________________________________________________________\n",
            "batch_normalization_16 (Batc (None, 128)               512       \n",
            "_________________________________________________________________\n",
            "activation_16 (Activation)   (None, 128)               0         \n",
            "_________________________________________________________________\n",
            "dense_12 (Dense)             (None, 128)               16512     \n",
            "_________________________________________________________________\n",
            "batch_normalization_17 (Batc (None, 128)               512       \n",
            "_________________________________________________________________\n",
            "activation_17 (Activation)   (None, 128)               0         \n",
            "_________________________________________________________________\n",
            "dropout_12 (Dropout)         (None, 128)               0         \n",
            "_________________________________________________________________\n",
            "dense_13 (Dense)             (None, 256)               33024     \n",
            "_________________________________________________________________\n",
            "batch_normalization_18 (Batc (None, 256)               1024      \n",
            "_________________________________________________________________\n",
            "activation_18 (Activation)   (None, 256)               0         \n",
            "_________________________________________________________________\n",
            "dropout_13 (Dropout)         (None, 256)               0         \n",
            "_________________________________________________________________\n",
            "dense_14 (Dense)             (None, 256)               65792     \n",
            "_________________________________________________________________\n",
            "batch_normalization_19 (Batc (None, 256)               1024      \n",
            "_________________________________________________________________\n",
            "activation_19 (Activation)   (None, 256)               0         \n",
            "_________________________________________________________________\n",
            "dropout_14 (Dropout)         (None, 256)               0         \n",
            "_________________________________________________________________\n",
            "Output_Layer (Dense)         (None, 1)                 257       \n",
            "=================================================================\n",
            "Total params: 119,169\n",
            "Trainable params: 117,633\n",
            "Non-trainable params: 1,536\n",
            "_________________________________________________________________\n"
          ],
          "name": "stdout"
        }
      ]
    },
    {
      "cell_type": "markdown",
      "metadata": {
        "id": "1grwB9jDU5jH"
      },
      "source": [
        "To predict the soil temperature, the model used more than 100,000 parameters, 5 hidden layers and hundreds of neurons."
      ]
    },
    {
      "cell_type": "markdown",
      "metadata": {
        "id": "r8PUHEaHXPb-"
      },
      "source": [
        "## 4.2 Run!"
      ]
    },
    {
      "cell_type": "code",
      "metadata": {
        "colab": {
          "base_uri": "https://localhost:8080/"
        },
        "id": "TxeA56n3IXHM",
        "outputId": "93dc3acc-e18d-4b68-f2e1-a98d77f7c34a"
      },
      "source": [
        "lr_schedule = schedules.ExponentialDecay(initial_learning_rate=1e-3,\n",
        "                                         decay_steps=10000,\n",
        "                                         decay_rate=0.9)\n",
        "opt = Adam(learning_rate=lr_schedule)\n",
        "\n",
        "# TensorBoard configuration:\n",
        "# create a folder for log files\n",
        "my_log_dir = os.path.join(\"my_log_dir\", \n",
        "                    datetime.datetime.now().strftime(\"%Y-%m-%d_%H.%M.%S\"))\n",
        "tensorboard_callbacks = TensorBoard(log_dir=my_log_dir, histogram_freq=1)\n",
        "\n",
        "# firstly, we compile our model before we fit the data\n",
        "model.compile(optimizer=opt, loss=\"mse\", metrics=[\"mae\"])\n",
        "model_history = model.fit(X_train, y_train, \n",
        "                          epochs=1000, \n",
        "                          batch_size=8, \n",
        "                          validation_split=0.25, \n",
        "                          shuffle=True, \n",
        "                          verbose=0, \n",
        "                          callbacks=[tensorboard_callbacks])"
      ],
      "execution_count": null,
      "outputs": [
        {
          "output_type": "stream",
          "text": [
            "WARNING:tensorflow:Callbacks method `on_train_batch_end` is slow compared to the batch time (batch time: 0.0061s vs `on_train_batch_end` time: 0.1067s). Check your callbacks.\n"
          ],
          "name": "stdout"
        }
      ]
    },
    {
      "cell_type": "code",
      "metadata": {
        "colab": {
          "base_uri": "https://localhost:8080/"
        },
        "id": "-XFXopIUsY16",
        "outputId": "c2cc404f-5bc5-46d4-dc0d-9e9f32403988"
      },
      "source": [
        "# we should save the most successful model:\n",
        "model.save(\"soil_model.h5\")\n",
        "evaluate_dict = model.evaluate(X_test, y_test, return_dict=True)"
      ],
      "execution_count": null,
      "outputs": [
        {
          "output_type": "stream",
          "text": [
            "3/3 [==============================] - 0s 3ms/step - loss: 1.9529 - mae: 0.8691\n"
          ],
          "name": "stdout"
        }
      ]
    },
    {
      "cell_type": "code",
      "metadata": {
        "colab": {
          "base_uri": "https://localhost:8080/"
        },
        "id": "eBpOzHMktqrs",
        "outputId": "36c96d76-3375-43d1-cd52-37442c5973de"
      },
      "source": [
        "print(f'The evaluation loss value of the test dataset : {evaluate_dict[\"loss\"]:.3f}')\n",
        "print(f'Mean Absolute Error (MAE) of the test dataset : {evaluate_dict[\"mae\"]:.3f}')"
      ],
      "execution_count": null,
      "outputs": [
        {
          "output_type": "stream",
          "text": [
            "The evaluation loss value of the test dataset : 1.953\n",
            "Mean Absolute Error (MAE) of the test dataset : 0.869\n"
          ],
          "name": "stdout"
        }
      ]
    },
    {
      "cell_type": "markdown",
      "metadata": {
        "id": "TAQCUsOPWJgk"
      },
      "source": [
        "Please note that we have a MAE value of 0.87. It means that the mean error is about 0.9 while predicting the temperature. We would have a predicted value of **21.0** celsius degree whereas the true value was 21.6, 21.8 or even 20. Remember the more data we get, the better deep learning models learn from our data. Instead of a few hundred data, we should have thousands of data points to feed our model so it could reduce the loss value and got a smaller mean error."
      ]
    },
    {
      "cell_type": "code",
      "metadata": {
        "colab": {
          "base_uri": "https://localhost:8080/"
        },
        "id": "R7SzxIjzwGKr",
        "outputId": "6701bd70-2fe2-4227-b6ba-8619ee299248"
      },
      "source": [
        "example_soilTemp_prediction = model.predict(X_test)[1][0]\n",
        "example_soilTemp_trueValue = y_test[1]\n",
        "\n",
        "print(f\"Predicted soil temperature : {example_soilTemp_prediction:.2f}C\")\n",
        "print(f\"True soil temperature      : {example_soilTemp_trueValue:.2f}C\")"
      ],
      "execution_count": null,
      "outputs": [
        {
          "output_type": "stream",
          "text": [
            "Predicted soil temperature : 28.27C\n",
            "True soil temperature      : 28.11C\n"
          ],
          "name": "stdout"
        }
      ]
    },
    {
      "cell_type": "markdown",
      "metadata": {
        "id": "2fsDey5XXFKh"
      },
      "source": [
        "...and sometimes it does a pretty good job as well as can be seen."
      ]
    },
    {
      "cell_type": "markdown",
      "metadata": {
        "id": "Bp_CrKahBL_B"
      },
      "source": [
        "# 5\\. QR Code"
      ]
    },
    {
      "cell_type": "markdown",
      "metadata": {
        "id": "Hucdb1LIX14G"
      },
      "source": [
        "## 5.1 Load The Trained Deep Learning Model"
      ]
    },
    {
      "cell_type": "markdown",
      "metadata": {
        "id": "BQSnrcHxXasT"
      },
      "source": [
        "We don't need to train our model everytime we want to predict the temperature. It would cost us lots of hours. Instead, we load our best model from a file we saved just after we trained it."
      ]
    },
    {
      "cell_type": "code",
      "metadata": {
        "id": "N3FQ7h5qC4Wh"
      },
      "source": [
        "model_preload = models.load_model(\"soil_model.h5\")"
      ],
      "execution_count": null,
      "outputs": []
    },
    {
      "cell_type": "code",
      "metadata": {
        "id": "j1tKq-rvBNhe"
      },
      "source": [
        "# We need to update/install the qr-code module\n",
        "!pip install qrcode\n",
        "import qrcode"
      ],
      "execution_count": null,
      "outputs": []
    },
    {
      "cell_type": "markdown",
      "metadata": {
        "id": "gyqo28tzF6FW"
      },
      "source": [
        "## 5.2 Latest Weather Data"
      ]
    },
    {
      "cell_type": "markdown",
      "metadata": {
        "id": "HqxKq-aKX_ft"
      },
      "source": [
        "We use Ambee database to get the latest weather forecast information from the farmer's location."
      ]
    },
    {
      "cell_type": "code",
      "metadata": {
        "id": "HS5t1QvsC7V2"
      },
      "source": [
        "url_airLatest = \" https://api.ambeedata.com/latest/by-lat-lng\"\n",
        "url_weather = \"https://api.ambeedata.com/weather/by-lat-lng\"\n",
        "url_soil = \"https://api.ambeedata.com/soil/latest/by-lat-lng\"\n",
        "\n",
        "querystring_latest = {\"lat\":\"17.39359\",\n",
        "                      \"lng\":\"78.4642\"}\n",
        "\n",
        "headers = {\n",
        "    'x-api-key': \"BkY0NYZmqG3PEJ776SjzzajD1VsdqZrh6CkyAqUt\",\n",
        "    'Content-type': \"application/json\"\n",
        "    }\n",
        "\n",
        "response_airLatest = requests.request(\"GET\", url_airLatest, \n",
        "                                       headers=headers, \n",
        "                                       params=querystring_latest)\n",
        "response_weather = requests.request(\"GET\", url_weather, \n",
        "                                    headers=headers, \n",
        "                                    params=querystring_latest)\n",
        "response_soil = requests.request(\"GET\", url_soil, \n",
        "                                 headers=headers,\n",
        "                                 params=querystring_latest)"
      ],
      "execution_count": null,
      "outputs": []
    },
    {
      "cell_type": "code",
      "metadata": {
        "id": "Gd5OWOLZhQI1"
      },
      "source": [
        "false = False    # to correct an error on API server,\n",
        "true = True      # these booleans had to be defined.\n",
        "\n",
        "# sometimes we might have server errors\n",
        "try:\n",
        "    response_dict_airLatest = eval(response_airLatest.text)\n",
        "    response_dict_airLatest = response_dict_airLatest[\"stations\"][0]\n",
        "    response_dict_weather = eval(response_weather.text)\n",
        "    response_dict_weather = response_dict_weather[\"data\"]\n",
        "    response_dict_soil = eval(response_soil.text)\n",
        "    response_dict_soil = response_dict_soil[\"data\"][0]\n",
        "except:\n",
        "    print(\"500 - Internal Server Error: Something went wrong on our end\")"
      ],
      "execution_count": null,
      "outputs": []
    },
    {
      "cell_type": "markdown",
      "metadata": {
        "id": "Y6rYCIjGYKnB"
      },
      "source": [
        "Down below, the pulled data can be seen. We should convert it so a non-technical person would understand."
      ]
    },
    {
      "cell_type": "code",
      "metadata": {
        "colab": {
          "base_uri": "https://localhost:8080/"
        },
        "id": "cP1dN5m5jDW2",
        "outputId": "4e6bd49f-f235-4875-f89b-2a753c8db651"
      },
      "source": [
        "response_dict_weather"
      ],
      "execution_count": null,
      "outputs": [
        {
          "output_type": "execute_result",
          "data": {
            "text/plain": [
              "{'apparentTemperature': 70.75,\n",
              " 'cloudCover': 0.82,\n",
              " 'dewPoint': 67.3,\n",
              " 'humidity': 0.92,\n",
              " 'icon': 'partly-cloudy-night',\n",
              " 'lat': '17.39359',\n",
              " 'lng': '78.4642',\n",
              " 'ozone': 250,\n",
              " 'precipIntensity': 0.0018,\n",
              " 'precipProbability': 0.03,\n",
              " 'precipType': 'rain',\n",
              " 'pressure': 1013.2,\n",
              " 'summary': 'Mostly Cloudy',\n",
              " 'temperature': 69.75,\n",
              " 'time': 1606000188,\n",
              " 'uvIndex': 0,\n",
              " 'visibility': 10,\n",
              " 'windBearing': 54,\n",
              " 'windGust': 6.81,\n",
              " 'windSpeed': 3.21}"
            ]
          },
          "metadata": {
            "tags": []
          },
          "execution_count": 315
        }
      ]
    },
    {
      "cell_type": "code",
      "metadata": {
        "colab": {
          "base_uri": "https://localhost:8080/"
        },
        "id": "bmXdBfHQycsA",
        "outputId": "899b9bfa-9550-4282-c369-65fa4759f24e"
      },
      "source": [
        "response_dict_soil"
      ],
      "execution_count": null,
      "outputs": [
        {
          "output_type": "execute_result",
          "data": {
            "text/plain": [
              "{'_id': '5f93cbe7044ab9f9d479d5b7',\n",
              " 'scantime': '2020-10-21T08:03:36.102Z',\n",
              " 'soil_moisture': 24.33333396911621,\n",
              " 'soil_temperature': 23.050012207031273}"
            ]
          },
          "metadata": {
            "tags": []
          },
          "execution_count": 316
        }
      ]
    },
    {
      "cell_type": "code",
      "metadata": {
        "id": "MmBJZ8JUhspn"
      },
      "source": [
        "# latest air information\n",
        "QR_AIR_AQI = response_dict_airLatest[\"AQI\"]\n",
        "QR_AIR_AQI_label = response_dict_airLatest[\"aqiInfo\"][\"category\"]\n",
        "\n",
        "# latest weather information\n",
        "# Temperature is in F. If pulled data in C, please modify the following line\n",
        "QR_W_TEMP = (response_dict_weather[\"temperature\"]-32) * (5/9)\n",
        "QR_W_HUMID = response_dict_weather[\"humidity\"] * 100\n",
        "QR_W_PROB_label = response_dict_weather[\"precipType\"]\n",
        "QR_W_PROB = response_dict_weather[\"precipProbability\"] * 100\n",
        "QR_W_SUM = response_dict_weather[\"summary\"]\n",
        "QR_W_UV = response_dict_weather[\"uvIndex\"]\n",
        "QR_W_WIND = response_dict_weather[\"windSpeed\"]"
      ],
      "execution_count": null,
      "outputs": []
    },
    {
      "cell_type": "code",
      "metadata": {
        "id": "rw3XD3yUzpyJ"
      },
      "source": [
        "current_Soil_Data = np.array([[QR_W_TEMP, \n",
        "                               QR_W_HUMID, \n",
        "                               QR_W_WIND]])\n",
        "current_Soil_Data = normalize.fit_transform(current_Soil_Data)\n",
        "\n",
        "soil_tmp_prediction = model_preload.predict(current_Soil_Data)"
      ],
      "execution_count": null,
      "outputs": []
    },
    {
      "cell_type": "code",
      "metadata": {
        "id": "1WISIeWPzGa8"
      },
      "source": [
        "# latest soil information\n",
        "QR_SOIL_MOIST = response_dict_soil[\"soil_moisture\"]\n",
        "QR_SOIL_TEMP = response_dict_soil[\"soil_temperature\"]\n",
        "QR_SOIL_TEMP_predict = soil_tmp_prediction[0][0]\n",
        "\n",
        "# if the soil data is not available:\n",
        "if not isinstance(QR_SOIL_MOIST, (int, float)):\n",
        "    QR_SOIL_MOIST = np.nan\n",
        "if not isinstance(QR_SOIL_TEMP, (int, float)):\n",
        "    QR_SOIL_TEMP = np.nan"
      ],
      "execution_count": null,
      "outputs": []
    },
    {
      "cell_type": "markdown",
      "metadata": {
        "id": "57M-eaIUYzkz"
      },
      "source": [
        "## 5.3 Getting The QR Code Image"
      ]
    },
    {
      "cell_type": "code",
      "metadata": {
        "id": "ngQ43j6V6Ybr"
      },
      "source": [
        "QR_read_me = f\"\"\"\n",
        "Summary: {QR_W_SUM}\n",
        "Temperature: {QR_W_TEMP:.2f} C\n",
        "Soil Temperature: {QR_SOIL_TEMP:.2f} C\n",
        "Predicted Soil Temperature: {QR_SOIL_TEMP_predict:.2f} C\n",
        "Soil Moisture: {QR_SOIL_MOIST:.2f}%\n",
        "Humidity: {int(QR_W_HUMID)}%\n",
        "Air Quality Index: {int(QR_AIR_AQI)} ({QR_AIR_AQI_label})\n",
        "Probability of precipitation: {int(QR_W_PROB)}% ({QR_W_PROB_label})\n",
        "UV Index: {int(QR_W_UV)}\n",
        "Wind Speed: {QR_W_WIND:.2f}km/h\n",
        "\"\"\""
      ],
      "execution_count": null,
      "outputs": []
    },
    {
      "cell_type": "code",
      "metadata": {
        "colab": {
          "base_uri": "https://localhost:8080/",
          "height": 383
        },
        "id": "0RhBQ2sr139I",
        "outputId": "b8b5aced-cffc-49a9-9a5a-4a3eaadbf1ef"
      },
      "source": [
        "sns.reset_orig()\n",
        "QR = qrcode.QRCode(version=None, \n",
        "                   error_correction=qrcode.constants.ERROR_CORRECT_L,\n",
        "                   box_size=6, \n",
        "                   border=2)\n",
        "QR.add_data(QR_read_me)\n",
        "QR.make(fit=True)\n",
        "\n",
        "img = QR.make_image(fill_color=\"black\", back_color=\"lightgreen\")\n",
        "img.get_image()"
      ],
      "execution_count": null,
      "outputs": [
        {
          "output_type": "execute_result",
          "data": {
            "image/png": "[encoded data removed]",
            "text/plain": [
              "<PIL.Image.Image image mode=RGB size=366x366 at 0x7F915219EA90>"
            ]
          },
          "metadata": {
            "tags": []
          },
          "execution_count": 321
        }
      ]
    },
    {
      "cell_type": "markdown",
      "metadata": {
        "id": "yVoQnZ07Yufg"
      },
      "source": [
        "Finally, the farmer, expert or customer can use the camera (or a QR Code reader app) and scan the QR code to get information about these specifications:<br>\n",
        "\n",
        "* Weather Forecast Summary\n",
        "* Temperature\n",
        "* Soil Temperature\n",
        "* **Predicted Soil Temperature** *(Final product of our model)*\n",
        "* Soil Moisture\n",
        "* Humidity\n",
        "* Air Quality Index\n",
        "* Probability of precipitation\n",
        "* UV Index\n",
        "* Wind Speed"
      ]
    }
  ]
}