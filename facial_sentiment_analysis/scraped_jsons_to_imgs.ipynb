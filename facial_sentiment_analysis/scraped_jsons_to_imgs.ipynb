{
 "cells": [
  {
   "cell_type": "code",
   "execution_count": 1,
   "metadata": {
    "colab": {
     "base_uri": "https://localhost:8080/"
    },
    "executionInfo": {
     "elapsed": 20348,
     "status": "ok",
     "timestamp": 1606553558728,
     "user": {
      "displayName": "Mert Gul",
      "photoUrl": "https://lh3.googleusercontent.com/a-/AOh14GhOcpIJmWraS0-dzQt4SAYYlqzvj2xoQfVS_4PMKQ=s64",
      "userId": "16837833320055809639"
     },
     "user_tz": -180
    },
    "id": "BCWVH8OsCw6e",
    "outputId": "4daeaf04-5938-456b-a000-be65084488c7"
   },
   "outputs": [
    {
     "name": "stdout",
     "output_type": "stream",
     "text": [
      "Mounted at /content/drive/\n",
      "/content/drive/My Drive/Colab Notebooks/Facial sentiment analysis\n"
     ]
    }
   ],
   "source": [
    "### Google Colab configuration ###\n",
    "# from google.colab import drive\n",
    "# drive.mount(\"/content/drive/\")\n",
    "# %cd \"/content/drive/My Drive/Colab Notebooks/Facial sentiment analysis\""
   ]
  },
  {
   "cell_type": "code",
   "execution_count": 3,
   "metadata": {
    "id": "0pTQd8rSDDYK"
   },
   "outputs": [],
   "source": [
    "import cvlib as cv    # !pip install cvlib    # Colab doesn't have cvlib\n",
    "import io, os, json\n",
    "import numpy as np\n",
    "import cv2, requests\n",
    "from PIL import Image\n",
    "import matplotlib.pyplot as plt"
   ]
  },
  {
   "cell_type": "code",
   "execution_count": 7,
   "metadata": {
    "id": "yifuXBIJDFPs"
   },
   "outputs": [
    {
     "output_type": "stream",
     "name": "stdout",
     "text": [
      "shocked_folder is filling...\n",
      "OpenCV(4.4.0) C:\\Users\\appveyor\\AppData\\Local\\Temp\\1\\pip-req-build-h4wtvo23\\opencv\\modules\\imgproc\\src\\color.cpp:182: error: (-215:Assertion failed) !_src.empty() in function 'cv::cvtColor'\n",
      " (error at index: 573)\n",
      "OpenCV(4.4.0) C:\\Users\\appveyor\\AppData\\Local\\Temp\\1\\pip-req-build-h4wtvo23\\opencv\\modules\\imgproc\\src\\color.cpp:182: error: (-215:Assertion failed) !_src.empty() in function 'cv::cvtColor'\n",
      " (error at index: 1840)\n",
      "Invalid URL '': No schema supplied. Perhaps you meant http://? (error at index: 1845)\n",
      "OpenCV(4.4.0) C:\\Users\\appveyor\\AppData\\Local\\Temp\\1\\pip-req-build-h4wtvo23\\opencv\\modules\\imgproc\\src\\color.cpp:182: error: (-215:Assertion failed) !_src.empty() in function 'cv::cvtColor'\n",
      " (error at index: 2045)\n",
      "OpenCV(4.4.0) C:\\Users\\appveyor\\AppData\\Local\\Temp\\1\\pip-req-build-h4wtvo23\\opencv\\modules\\imgproc\\src\\color.cpp:182: error: (-215:Assertion failed) !_src.empty() in function 'cv::cvtColor'\n",
      " (error at index: 2086)\n",
      "cannot identify image file <_io.BytesIO object at 0x000001FE26018220> (error at index: 2203)\n",
      "OpenCV(4.4.0) C:\\Users\\appveyor\\AppData\\Local\\Temp\\1\\pip-req-build-h4wtvo23\\opencv\\modules\\imgproc\\src\\color.cpp:182: error: (-215:Assertion failed) !_src.empty() in function 'cv::cvtColor'\n",
      " (error at index: 2317)\n",
      "cannot identify image file <_io.BytesIO object at 0x000001FE2458ECC0> (error at index: 2364)\n",
      "OpenCV(4.4.0) C:\\Users\\appveyor\\AppData\\Local\\Temp\\1\\pip-req-build-h4wtvo23\\opencv\\modules\\imgproc\\src\\color.cpp:182: error: (-215:Assertion failed) !_src.empty() in function 'cv::cvtColor'\n",
      " (error at index: 2369)\n",
      "cannot identify image file <_io.BytesIO object at 0x000001FE2608BD60> (error at index: 2558)\n",
      "OpenCV(4.4.0) C:\\Users\\appveyor\\AppData\\Local\\Temp\\1\\pip-req-build-h4wtvo23\\opencv\\modules\\imgproc\\src\\color.cpp:182: error: (-215:Assertion failed) !_src.empty() in function 'cv::cvtColor'\n",
      " (error at index: 2747)\n",
      "OpenCV(4.4.0) C:\\Users\\appveyor\\AppData\\Local\\Temp\\1\\pip-req-build-h4wtvo23\\opencv\\modules\\imgproc\\src\\color.cpp:182: error: (-215:Assertion failed) !_src.empty() in function 'cv::cvtColor'\n",
      " (error at index: 2778)\n",
      "shocked_folder is filled!\n",
      "\n",
      "happy_folder is filling...\n",
      "OpenCV(4.4.0) C:\\Users\\appveyor\\AppData\\Local\\Temp\\1\\pip-req-build-h4wtvo23\\opencv\\modules\\imgproc\\src\\color.cpp:182: error: (-215:Assertion failed) !_src.empty() in function 'cv::cvtColor'\n",
      " (error at index: 67)\n",
      "OpenCV(4.4.0) C:\\Users\\appveyor\\AppData\\Local\\Temp\\1\\pip-req-build-h4wtvo23\\opencv\\modules\\imgproc\\src\\color.cpp:182: error: (-215:Assertion failed) !_src.empty() in function 'cv::cvtColor'\n",
      " (error at index: 489)\n",
      "Invalid URL '': No schema supplied. Perhaps you meant http://? (error at index: 783)\n",
      "OpenCV(4.4.0) C:\\Users\\appveyor\\AppData\\Local\\Temp\\1\\pip-req-build-h4wtvo23\\opencv\\modules\\imgproc\\src\\color.cpp:182: error: (-215:Assertion failed) !_src.empty() in function 'cv::cvtColor'\n",
      " (error at index: 840)\n",
      "Invalid URL '': No schema supplied. Perhaps you meant http://? (error at index: 1184)\n",
      "cannot identify image file <_io.BytesIO object at 0x000001FE26018220> (error at index: 1250)\n",
      "Invalid URL '': No schema supplied. Perhaps you meant http://? (error at index: 1261)\n",
      "Invalid URL '': No schema supplied. Perhaps you meant http://? (error at index: 1331)\n",
      "cannot identify image file <_io.BytesIO object at 0x000001FE2458ECC0> (error at index: 1381)\n",
      "cannot identify image file <_io.BytesIO object at 0x000001FE2458ECC0> (error at index: 1434)\n",
      "OpenCV(4.4.0) C:\\Users\\appveyor\\AppData\\Local\\Temp\\1\\pip-req-build-h4wtvo23\\opencv\\modules\\imgproc\\src\\color.cpp:182: error: (-215:Assertion failed) !_src.empty() in function 'cv::cvtColor'\n",
      " (error at index: 1557)\n",
      "OpenCV(4.4.0) C:\\Users\\appveyor\\AppData\\Local\\Temp\\1\\pip-req-build-h4wtvo23\\opencv\\modules\\imgproc\\src\\color.cpp:182: error: (-215:Assertion failed) !_src.empty() in function 'cv::cvtColor'\n",
      " (error at index: 1564)\n",
      "OpenCV(4.4.0) C:\\Users\\appveyor\\AppData\\Local\\Temp\\1\\pip-req-build-h4wtvo23\\opencv\\modules\\imgproc\\src\\color.cpp:182: error: (-215:Assertion failed) !_src.empty() in function 'cv::cvtColor'\n",
      " (error at index: 1591)\n",
      "OpenCV(4.4.0) C:\\Users\\appveyor\\AppData\\Local\\Temp\\1\\pip-req-build-h4wtvo23\\opencv\\modules\\imgproc\\src\\color.cpp:182: error: (-215:Assertion failed) !_src.empty() in function 'cv::cvtColor'\n",
      " (error at index: 1726)\n",
      "OpenCV(4.4.0) C:\\Users\\appveyor\\AppData\\Local\\Temp\\1\\pip-req-build-h4wtvo23\\opencv\\modules\\imgproc\\src\\color.cpp:182: error: (-215:Assertion failed) !_src.empty() in function 'cv::cvtColor'\n",
      " (error at index: 1748)\n",
      "Invalid URL '': No schema supplied. Perhaps you meant http://? (error at index: 1944)\n",
      "OpenCV(4.4.0) C:\\Users\\appveyor\\AppData\\Local\\Temp\\1\\pip-req-build-h4wtvo23\\opencv\\modules\\imgproc\\src\\color.cpp:182: error: (-215:Assertion failed) !_src.empty() in function 'cv::cvtColor'\n",
      " (error at index: 2171)\n",
      "Invalid URL '': No schema supplied. Perhaps you meant http://? (error at index: 2498)\n",
      "cannot identify image file <_io.BytesIO object at 0x000001FE25202CC0> (error at index: 2775)\n",
      "happy_folder is filled!\n",
      "\n",
      "Wall time: 1h 4min 18s\n"
     ]
    }
   ],
   "source": [
    "%%time\n",
    "json_list = (\"sad_img_url.json\", \n",
    "             \"shocked_img_url.json\", \n",
    "             \"happy_img_url.json\")\n",
    "\n",
    "folder_list = (\"sad_folder\", \n",
    "               \"shocked_folder\", \n",
    "               \"happy_folder\")\n",
    "\n",
    "for json_file, folder in zip(json_list, folder_list):\n",
    "    with open(json_file, \"r\") as f:\n",
    "        loaded_json = json.load(f)\n",
    "        print(f\"{folder} is filling...\")\n",
    "        os.mkdir(folder)\n",
    "        for i in range(len(loaded_json)):\n",
    "            try:\n",
    "                img_link = loaded_json[i].popitem()[1]\n",
    "                img = Image.open(io.BytesIO(requests.get(img_link).content))\n",
    "                img = np.array(img)\n",
    "                # OpenCV requires 3D images to detect faces:\n",
    "                img = cv2.cvtColor(img, code=8) if len(img.shape) != 3 else img\n",
    "                \n",
    "                # detect, crop and save the faces\n",
    "                faces, confidence = cv.detect_face(img, threshold=0.80)\n",
    "                for face_num, face in enumerate(faces, start=1):\n",
    "                    (startX, startY) = (face[0], face[1])    # top left corner\n",
    "                    (endX, endY) = (face[2], face[3])    # bottom right corner\n",
    "                    cropped_frame = np.copy(img[startY:endY, startX:endX])\n",
    "                    # keep only large-enough (24-pixel) frames\n",
    "                    if cropped_frame.shape[0] > 23 or cropped_frame.shape[1] > 23:\n",
    "                        cropped_frame = cv2.cvtColor(cropped_frame, code=6)\n",
    "                        to_path = f\"{folder}/p{i}_f{face_num}.jpg\"    #sample file: \"p15_f2.jpg\" (picture15, face2)\n",
    "                        Image.fromarray(cropped_frame).save(to_path) \n",
    "            except Exception as e:\n",
    "                print(e, f\"(error at index: {i})\")\n",
    "                continue\n",
    "        print(f\"{folder} is filled!\\n\")\n",
    "del json_list, folder_list, loaded_json"
   ]
  }
 ],
 "metadata": {
  "colab": {
   "authorship_tag": "ABX9TyNM3zm5zN7dqSuPSt1lvYiT",
   "collapsed_sections": [],
   "name": "scraped_jsons_to_imgs.ipynb",
   "provenance": []
  },
  "kernelspec": {
   "display_name": "Python 3",
   "language": "python",
   "name": "python3"
  },
  "language_info": {
   "codemirror_mode": {
    "name": "ipython",
    "version": 3
   },
   "file_extension": ".py",
   "mimetype": "text/x-python",
   "name": "python",
   "nbconvert_exporter": "python",
   "pygments_lexer": "ipython3",
   "version": "3.8.3-final"
  }
 },
 "nbformat": 4,
 "nbformat_minor": 1
}