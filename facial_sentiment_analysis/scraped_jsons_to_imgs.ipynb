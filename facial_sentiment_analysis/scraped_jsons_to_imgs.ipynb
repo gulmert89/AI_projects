{
 "cells": [
  {
   "cell_type": "markdown",
   "metadata": {},
   "source": [
    "## Scraped json files to images\n",
    "As the file name suggests, this is a notebook to get the scraped links (in .json files) and convert them to images.<br>The steps are simple:<br>\n",
    "1) Import the modules<br>\n",
    "2) Prepare the file paths<br>\n",
    "3) Open the **.json** file<br>\n",
    "4) Create a **folder** for that class<br>\n",
    "5) Get the **image**<br>\n",
    "6) Crop & save the **face(s)** on the image<br>\n",
    "7) If an **error** occurs, print it to the console<br>"
   ]
  },
  {
   "cell_type": "code",
   "execution_count": 1,
   "metadata": {
    "id": "0pTQd8rSDDYK"
   },
   "outputs": [],
   "source": [
    "import cvlib as cv\n",
    "import numpy as np\n",
    "import io, os, json\n",
    "import cv2, requests\n",
    "from PIL import Image\n",
    "import matplotlib.pyplot as plt"
   ]
  },
  {
   "cell_type": "code",
   "execution_count": 2,
   "metadata": {
    "id": "yifuXBIJDFPs"
   },
   "outputs": [
    {
     "name": "stdout",
     "output_type": "stream",
     "text": [
      "shocked_folder is filling...\n",
      "tile cannot extend outside image (error at index: 573)\n",
      "tile cannot extend outside image (error at index: 1840)\n",
      "Invalid URL '': No schema supplied. Perhaps you meant http://? (error at index: 1845)\n",
      "tile cannot extend outside image (error at index: 2045)\n",
      "tile cannot extend outside image (error at index: 2086)\n",
      "cannot identify image file <_io.BytesIO object at 0x0000013E87042B80> (error at index: 2203)\n",
      "tile cannot extend outside image (error at index: 2317)\n",
      "cannot identify image file <_io.BytesIO object at 0x0000013E86EFC680> (error at index: 2364)\n",
      "tile cannot extend outside image (error at index: 2369)\n",
      "cannot identify image file <_io.BytesIO object at 0x0000013E86EFC680> (error at index: 2558)\n",
      "tile cannot extend outside image (error at index: 2747)\n",
      "tile cannot extend outside image (error at index: 2778)\n",
      "shocked_folder is filled!\n",
      "\n",
      "Wall time: 37min 4s\n"
     ]
    }
   ],
   "source": [
    "%%time\n",
    "json_list = (\"sad_img_url.json\", \n",
    "             \"shocked_img_url.json\", \n",
    "             \"happy_img_url.json\", \n",
    "             \"neutral_img_url.json\")\n",
    "\n",
    "folder_list = (\"sad_folder\", \n",
    "               \"shocked_folder\", \n",
    "               \"happy_folder\", \n",
    "               \"neutral_folder\")\n",
    "\n",
    "for json_file, folder in zip(json_list, folder_list):\n",
    "    with open(json_file, \"r\") as f:\n",
    "        loaded_json = json.load(f)\n",
    "        print(f\"{folder} is filling...\")\n",
    "        os.mkdir(folder)    # create the folder and fill it!\n",
    "        for i in range(len(loaded_json)):\n",
    "            try:\n",
    "                img_link = loaded_json[i].popitem()[1]\n",
    "                # Read the link > Get the content (in bytes) > Open the img:\n",
    "                img = Image.open(io.BytesIO(requests.get(img_link).content))\n",
    "                img = np.array(img)\n",
    "                \n",
    "                # OpenCV requires 3D images to detect faces:\n",
    "                # So, if not BGR, convert to it (code=8 refers to \"COLOR_GRAY2BGR\")\n",
    "                img = cv2.cvtColor(img, code=8) if len(img.shape) != 3 else img\n",
    "                \n",
    "                # Detect the faces > Crop the ones with >80% confidence > Save it as a jpg\n",
    "                faces, confidence = cv.detect_face(img, threshold=0.80)\n",
    "                for face_num, face in enumerate(faces, start=1):\n",
    "                    # frame it:\n",
    "                    (startX, startY) = (face[0], face[1])    # top left corner\n",
    "                    (endX, endY)     = (face[2], face[3])    # bottom right corner\n",
    "                    cropped_frame = np.copy(img[startY:endY, startX:endX])\n",
    "                    # keep only large-enough (24-pixel) frames:\n",
    "                    if cropped_frame.shape[0] > 23 or cropped_frame.shape[1] > 23:\n",
    "                        to_path = f\"{folder}/p{i}_f{face_num}.jpg\"\n",
    "                        Image.fromarray(cropped_frame).save(to_path)\n",
    "                        # sample output file: \"p15_f2.jpg\" (picture15, face2)\n",
    "            except Exception as e:\n",
    "                # Don't you wanna know what the errors are?\n",
    "                print(e, f\"(error at index: {i})\")\n",
    "                continue\n",
    "        print(f\"{folder} is filled!\\n\")\n",
    "# For this instance, only one of the folders was filled to save time.\n",
    "# Also you can see some of the errors that popped up:"
   ]
  }
 ],
 "metadata": {
  "colab": {
   "authorship_tag": "ABX9TyNM3zm5zN7dqSuPSt1lvYiT",
   "collapsed_sections": [],
   "name": "scraped_jsons_to_imgs.ipynb",
   "provenance": []
  },
  "kernelspec": {
   "display_name": "Python 3",
   "language": "python",
   "name": "python3"
  },
  "language_info": {
   "codemirror_mode": {
    "name": "ipython",
    "version": 3
   },
   "file_extension": ".py",
   "mimetype": "text/x-python",
   "name": "python",
   "nbconvert_exporter": "python",
   "pygments_lexer": "ipython3",
   "version": "3.8.3"
  }
 },
 "nbformat": 4,
 "nbformat_minor": 1
}
