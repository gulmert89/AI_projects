{
  "nbformat": 4,
  "nbformat_minor": 0,
  "metadata": {
    "colab": {
      "name": "last_model.ipynb",
      "provenance": [],
      "collapsed_sections": [],
      "include_colab_link": true
    },
    "kernelspec": {
      "name": "python3",
      "display_name": "Python 3"
    },
    "accelerator": "GPU"
  },
  "cells": [
    {
      "cell_type": "markdown",
      "metadata": {
        "id": "view-in-github",
        "colab_type": "text"
      },
      "source": [
        "<a href=\"https://colab.research.google.com/github/gulmert89/projects/blob/main/facial_sentiment_analysis/last_model.ipynb\" target=\"_parent\"><img src=\"https://colab.research.google.com/assets/colab-badge.svg\" alt=\"Open In Colab\"/></a>"
      ]
    },
    {
      "cell_type": "markdown",
      "metadata": {
        "id": "lcxkevvkuIXO"
      },
      "source": [
        "# Graduation Project: Image Processing with Convolutional Neural Networks"
      ]
    },
    {
      "cell_type": "markdown",
      "metadata": {
        "id": "TcAgaBFuuSN5"
      },
      "source": [
        "Images of happy, shocked & sad faces will be analysed by Convolutional Neural Networks.<br>When satisfactory amount of accuracy is achieved, we are going to save that particular model and use it on our camera."
      ]
    },
    {
      "cell_type": "markdown",
      "metadata": {
        "id": "KOej3fDFklnY"
      },
      "source": [
        "---\n",
        "# 1\\. Introduction"
      ]
    },
    {
      "cell_type": "markdown",
      "metadata": {
        "id": "W62JrcSo-shj"
      },
      "source": [
        "## 1.1 Importing Files & Modules"
      ]
    },
    {
      "cell_type": "code",
      "metadata": {
        "id": "52QDd4NuYIU7"
      },
      "source": [
        "# from google.colab import drive\n",
        "# drive.mount(\"/content/drive/\")\n",
        "# %cd \"/content/drive/My Drive/Colab Notebooks/Facial sentiment analysis\""
      ],
      "execution_count": 1,
      "outputs": []
    },
    {
      "cell_type": "code",
      "metadata": {
        "id": "26otGQEoT-YN"
      },
      "source": [
        "import numpy as np\n",
        "import pandas as pd\n",
        "import seaborn as sns\n",
        "from PIL import Image\n",
        "import cv2, requests, time\n",
        "from zipfile import ZipFile\n",
        "import datetime, os, io\n",
        "import matplotlib.pyplot as plt"
      ],
      "execution_count": 2,
      "outputs": []
    },
    {
      "cell_type": "markdown",
      "metadata": {
        "id": "LlmkgGRa03FW"
      },
      "source": [
        "## 1.2 Getting the dataset ready"
      ]
    },
    {
      "cell_type": "code",
      "metadata": {
        "id": "pPCeQ_Cywyls"
      },
      "source": [
        "shock_zip = ZipFile(io.BytesIO(requests.get(\"https://github.com/gulmert89/projects/blob/main/facial_sentiment_analysis/datasets/shock.zip?raw=true\").content), \"r\")\n",
        "happy_zip = ZipFile(io.BytesIO(requests.get(\"https://github.com/gulmert89/projects/blob/main/facial_sentiment_analysis/datasets/happy.zip?raw=true\").content), \"r\")\n",
        "sad_zip = ZipFile(io.BytesIO(requests.get(\"https://github.com/gulmert89/projects/blob/main/facial_sentiment_analysis/datasets/sad.zip?raw=true\").content), \"r\")\n",
        "neutral_zip = ZipFile(io.BytesIO(requests.get(\"https://github.com/gulmert89/projects/blob/main/facial_sentiment_analysis/datasets/neutral.zip?raw=true\").content), \"r\")"
      ],
      "execution_count": 3,
      "outputs": []
    },
    {
      "cell_type": "code",
      "metadata": {
        "id": "TL_sE4n_yyCH"
      },
      "source": [
        "shock_img = []\n",
        "happy_img = []\n",
        "sad_img = []\n",
        "neutral_img = []\n",
        "for var_zip, var_img in zip((shock_zip, happy_zip, sad_zip, neutral_zip), \n",
        "                            (shock_img, happy_img, sad_img, neutral_img)):\n",
        "    for img_name in var_zip.namelist():\n",
        "        byte_data = var_zip.read(img_name)\n",
        "        img = io.BytesIO(byte_data)\n",
        "        img = np.array(Image.open(img))\n",
        "        img = cv2.cvtColor(img, code=6) if len(img.shape) == 3 else img        \n",
        "        img = cv2.resize(img, (64, 64))\n",
        "        var_img.append(img)\n",
        "shock_img = np.asarray(shock_img)\n",
        "happy_img = np.asarray(happy_img)\n",
        "sad_img = np.asarray(sad_img)\n",
        "neutral_img = np.asarray(neutral_img)\n",
        "LENGTH = len(happy_img)"
      ],
      "execution_count": 4,
      "outputs": []
    },
    {
      "cell_type": "markdown",
      "metadata": {
        "id": "rlYqqseGoqyR"
      },
      "source": [
        "In the \"noted\" line above, <code>code = 8</code> refers to <code>cv2.COLOR_GRAY2BGR</code> (see the [link](https://docs.opencv.org/3.4/d8/d01/group__imgproc__color__conversions.html)).<br>This conversation is required since there seems to be 8bpp images in the dataset. The rest is in 24bpp (RGB)."
      ]
    },
    {
      "cell_type": "code",
      "metadata": {
        "id": "c5wBlaTS07wY",
        "colab": {
          "base_uri": "https://localhost:8080/",
          "height": 258
        },
        "outputId": "d432cd75-d057-4afb-b19d-e22a9b28b19b"
      },
      "source": [
        "# 3 random images from each class\n",
        "sns.set_style(style=\"white\")\n",
        "plt.figure(figsize=(16,12))\n",
        "plt.subplot(1,4,1)\n",
        "plt.title(\"class: shocked\")\n",
        "plt.imshow(shock_img[np.random.randint(0,LENGTH)])\n",
        "plt.subplot(1,4,2)\n",
        "plt.title(\"class: happy\")\n",
        "plt.imshow(happy_img[np.random.randint(0,LENGTH)])\n",
        "plt.subplot(1,4,3)\n",
        "plt.title(\"class: sad\")\n",
        "plt.imshow(sad_img[np.random.randint(0,LENGTH)])\n",
        "plt.subplot(1,4,4)\n",
        "plt.title(\"class: neutral\")\n",
        "plt.imshow(neutral_img[np.random.randint(0,LENGTH)])\n",
        "plt.show()"
      ],
      "execution_count": 5,
      "outputs": [
        {
          "output_type": "display_data",
          "data": {
            "image/png": "[encoded data removed]",
            "text/plain": [
              "<Figure size 1152x864 with 4 Axes>"
            ]
          },
          "metadata": {
            "tags": []
          }
        }
      ]
    },
    {
      "cell_type": "markdown",
      "metadata": {
        "id": "6MJnrA_h093W"
      },
      "source": [
        "***\n",
        "## 1.3 Train & Test Set"
      ]
    },
    {
      "cell_type": "code",
      "metadata": {
        "id": "BZVMr4uPzrFn"
      },
      "source": [
        "X_train = np.concatenate([neutral_img, sad_img, shock_img, happy_img], axis=0)\n",
        "y_train = np.array([0]*LENGTH + [1]*LENGTH + [2]*LENGTH + [3]*LENGTH)\n",
        "\n",
        "# 20% of the pictures will be chosen for the test set\n",
        "# first we get the random indices:\n",
        "random_num_sad = np.random.choice(range(0, LENGTH), LENGTH//5, replace=False)\n",
        "random_num_shock = np.random.choice(range(LENGTH, LENGTH*2), LENGTH//5, replace=False)\n",
        "random_num_happy = np.random.choice(range(LENGTH*2, LENGTH*3), LENGTH//5, replace=False)\n",
        "random_num_neutral = np.random.choice(range(LENGTH*3, LENGTH*4), LENGTH//5, replace=False)\n",
        "random_indices = np.concatenate([random_num_sad,\n",
        "                                 random_num_shock,\n",
        "                                 random_num_happy, \n",
        "                                 random_num_neutral])\n",
        "# test set is ready:\n",
        "X_test = X_train[random_indices]\n",
        "y_test = y_train[random_indices]\n",
        "# let's remove the selected pictures from the train set:\n",
        "X_train = np.delete(X_train, random_indices, axis=0)\n",
        "y_train = np.delete(y_train, random_indices, axis=0)\n",
        "\n",
        "# Do not forget to shuffle the set:\n",
        "def shuffle_set():\n",
        "    \"\"\"To make sure the shuffle is the same for \n",
        "    both dependent and independent variables\"\"\"\n",
        "    random_state = np.random.get_state()\n",
        "    np.random.shuffle(X_train)\n",
        "    np.random.shuffle(X_test)\n",
        "    # we keep the random state and pass it to the next step:\n",
        "    np.random.set_state(random_state)\n",
        "    np.random.shuffle(y_train)\n",
        "    np.random.shuffle(y_test)\n",
        "shuffle_set()\n",
        "\n",
        "# ...and we dispose of these temporary tools:\n",
        "del random_num_sad, random_num_shock, random_num_happy, \\\n",
        "    random_indices, shuffle_set, LENGTH"
      ],
      "execution_count": 6,
      "outputs": []
    },
    {
      "cell_type": "markdown",
      "metadata": {
        "id": "-NVW7IU2tx98"
      },
      "source": [
        "# 2\\. Creating The Model"
      ]
    },
    {
      "cell_type": "markdown",
      "metadata": {
        "id": "g68E5GYKQqpz"
      },
      "source": [
        "## 2.1 Shape of The Dataset"
      ]
    },
    {
      "cell_type": "code",
      "metadata": {
        "id": "wIN60VilLHix"
      },
      "source": [
        "from keras import models, layers\n",
        "from keras.utils import to_categorical"
      ],
      "execution_count": 7,
      "outputs": []
    },
    {
      "cell_type": "code",
      "metadata": {
        "id": "cZMjGpXSzLaY"
      },
      "source": [
        "# gpu_options = tf.GPUOptions(per_process_gpu_memory_fraction=0.333)\n",
        "# sess = tf.Session(config=tf.ConfigProto(gpu_options=gpu_options))"
      ],
      "execution_count": 8,
      "outputs": []
    },
    {
      "cell_type": "code",
      "metadata": {
        "id": "MMu_kr5P0Gxz"
      },
      "source": [
        "X_train = np.expand_dims((X_train / 255.0), axis=3)\n",
        "X_test = np.expand_dims((X_test / 255.0), axis=3)\n",
        "\n",
        "# DON'T FORGET TO WRITE ABOUT THE BUG\n",
        "y_train = to_categorical(y_train)\n",
        "y_test = to_categorical(y_test)"
      ],
      "execution_count": 9,
      "outputs": []
    },
    {
      "cell_type": "code",
      "metadata": {
        "id": "qdPFJdwBt3n4",
        "colab": {
          "base_uri": "https://localhost:8080/"
        },
        "outputId": "c81e278e-bc9c-4903-e5e3-629b0fb0039d"
      },
      "source": [
        "print(\"---Shape of the train set---\\nX_train:\", X_train.shape, \n",
        "      \"\\ny_train:\", y_train.shape)\n",
        "print(\"\\n---Shape of the test set---\\nX_test:\", X_test.shape, \n",
        "      \"\\ny_test:\", y_test.shape)"
      ],
      "execution_count": 10,
      "outputs": [
        {
          "output_type": "stream",
          "text": [
            "---Shape of the train set---\n",
            "X_train: (19968, 64, 64, 1) \n",
            "y_train: (19968, 4)\n",
            "\n",
            "---Shape of the test set---\n",
            "X_test: (4988, 64, 64, 1) \n",
            "y_test: (4988, 4)\n"
          ],
          "name": "stdout"
        }
      ]
    },
    {
      "cell_type": "markdown",
      "metadata": {
        "id": "gReIIz6IIlV0"
      },
      "source": [
        "## 2.2 Neural Network Models"
      ]
    },
    {
      "cell_type": "markdown",
      "metadata": {
        "id": "Fy-PbzVLze_Z"
      },
      "source": [
        "### 2.2.0 TensorBoard Configuration & Monitoring"
      ]
    },
    {
      "cell_type": "markdown",
      "metadata": {
        "id": "-fID2LytzqED"
      },
      "source": [
        "Here we prepare the TensorBoard configuration to monitor the model's performance below. After creating the model, we will refer to TensorBoard API.\n",
        "\n",
        "Self reminders:\n",
        "* To view open TensorBoard instances: <code>tb_notebook.list()</code>\n",
        "\n",
        "* To kill the current TensorBoard process: <code>!kill #</code> (#:pid number)\n",
        "\n",
        "* To control TensorBoard display: <code>tb_notebook.display(port=None, height=1000)</code> \n",
        "If no port is provided, the most recently launched TensorBoard is used."
      ]
    },
    {
      "cell_type": "code",
      "metadata": {
        "id": "3N6oRCFVz1LY"
      },
      "source": [
        "from keras.callbacks import TensorBoard\n",
        "from tensorboard import notebook as tb_notebook"
      ],
      "execution_count": 82,
      "outputs": []
    },
    {
      "cell_type": "code",
      "metadata": {
        "id": "5MvPSwHIz3Ki",
        "colab": {
          "base_uri": "https://localhost:8080/"
        },
        "outputId": "f6c00163-7ef6-4ebf-a4ed-5534d11649d8"
      },
      "source": [
        "# Load the TensorBoard notebook extension:\n",
        "%load_ext tensorboard"
      ],
      "execution_count": 83,
      "outputs": [
        {
          "output_type": "stream",
          "text": [
            "The tensorboard extension is already loaded. To reload it, use:\n",
            "  %reload_ext tensorboard\n"
          ],
          "name": "stdout"
        }
      ]
    },
    {
      "cell_type": "markdown",
      "metadata": {
        "id": "oCOUaPMAGM2Y"
      },
      "source": [
        "#### \\>>> TensorBoard"
      ]
    },
    {
      "cell_type": "code",
      "metadata": {
        "id": "GE9QyFu6z4ij"
      },
      "source": [
        "# To run the TensorBoard:\n",
        "%tensorboard --logdir my_log_dir"
      ],
      "execution_count": null,
      "outputs": []
    },
    {
      "cell_type": "markdown",
      "metadata": {
        "id": "AHjPNskuNZ4f"
      },
      "source": [
        "## 2.3 Training Our Model"
      ]
    },
    {
      "cell_type": "code",
      "metadata": {
        "id": "it-Cb5iT5_Xq"
      },
      "source": [
        "from math import ceil\n",
        "from keras.optimizers import Adam, schedules\n",
        "from keras.callbacks import ModelCheckpoint, EarlyStopping\n",
        "os.mkdir(\"checkpoint\")"
      ],
      "execution_count": 11,
      "outputs": []
    },
    {
      "cell_type": "code",
      "metadata": {
        "id": "3T0srupk_45c"
      },
      "source": [
        "def conv_layer(neurons):\n",
        "    model.add(layers.Conv2D(filters=neurons, \n",
        "                            padding=\"same\", \n",
        "                            kernel_size=(5, 5)))\n",
        "    model.add(layers.BatchNormalization())\n",
        "    model.add(layers.Activation(\"relu\"))\n",
        "    model.add(layers.MaxPooling2D((2, 2)))\n",
        "    model.add(layers.Dropout(0.50))\n",
        "def dense_layer(neurons):\n",
        "    model.add(layers.Dense(neurons))\n",
        "    model.add(layers.BatchNormalization())\n",
        "    model.add(layers.Activation(\"relu\"))\n",
        "    model.add(layers.Dropout(0.50))"
      ],
      "execution_count": 88,
      "outputs": []
    },
    {
      "cell_type": "code",
      "metadata": {
        "id": "N3_Qh_Qdci0G",
        "colab": {
          "base_uri": "https://localhost:8080/"
        },
        "outputId": "87058c48-fffa-4c81-df8f-e3775e1780da"
      },
      "source": [
        "# CONSTANT VARIABLES\n",
        "# for the model itself:\n",
        "EPOCH = 250\n",
        "BATCH_SIZE = 32\n",
        "VAL_SPLIT = 0.20    # validation_split\n",
        "STEPS_PER_EPOCH = ceil((X_train.shape[0]  * (1-VAL_SPLIT)) / BATCH_SIZE)\n",
        "# for the Learning Rate scheduler:\n",
        "DECAY_STEPS = STEPS_PER_EPOCH * 24\n",
        "DECAY_RATE = 0.90\n",
        "# for the early stopping configuration:\n",
        "EPOCH_LIMIT = 100\n",
        "VAL_LOSS_BASELINE = None\n",
        "\n",
        "##################################\n",
        "MODEL_NAME = f\"NewModel-6-DS{DECAY_STEPS}-DR{DECAY_RATE}\\\n",
        "               -E{EPOCH}-EL{EPOCH_LIMIT}-VS{VAL_SPLIT}\"\n",
        "##################################\n",
        "\n",
        "model = models.Sequential()\n",
        "model.add(layers.Conv2D(filters=32, \n",
        "                        padding=\"same\", \n",
        "                        kernel_size=(5, 5),\n",
        "                        input_shape=X_train.shape[1:]))\n",
        "model.add(layers.BatchNormalization())\n",
        "model.add(layers.Activation(\"relu\"))\n",
        "model.add(layers.MaxPooling2D((2, 2)))\n",
        "model.add(layers.Dropout(0.50))\n",
        "\n",
        "conv_layer(32)\n",
        "conv_layer(64)\n",
        "conv_layer(128)\n",
        "conv_layer(128)\n",
        "\n",
        "model.add(layers.Flatten())\n",
        "dense_layer(16)\n",
        "\n",
        "model.add(layers.Dense(4, \n",
        "                       activation=\"softmax\", \n",
        "                       name=\"Output_Layer\"))\n",
        "\n",
        "model.summary()\n",
        "\n",
        "# TensorBoard configuration:\n",
        "my_log_dir = os.path.join(\"my_log_dir\", MODEL_NAME\n",
        "             #datetime.datetime.now().strftime(\"%Y-%m-%d_%H.%M.%S\"+\"(final)\")\n",
        "             )\n",
        "tensorboard_callbacks = TensorBoard(log_dir=my_log_dir, \n",
        "                                    histogram_freq=1)\n",
        "\n",
        "# ModelCheckpoint configuration:\n",
        "checkpoint_filepath = \"checkpoint/best_model.h5\"\n",
        "model_checkpoint_callback = ModelCheckpoint(filepath=checkpoint_filepath,\n",
        "                                            save_weights_only=False,\n",
        "                                            monitor=\"val_loss\",\n",
        "                                            mode=\"min\",\n",
        "                                            save_best_only=True, \n",
        "                                            save_freq=\"epoch\",\n",
        "                                            )\n",
        "\n",
        "# EarlyStopping configuration:\n",
        "earlystopping_callback = EarlyStopping(monitor=\"val_loss\",\n",
        "                                       patience=EPOCH_LIMIT, \n",
        "                                       verbose=0,\n",
        "                                       mode=\"min\", \n",
        "                                       baseline=VAL_LOSS_BASELINE, \n",
        "                                       restore_best_weights=True\n",
        "                                       )\n",
        "\n",
        "# learning_rate schedule configuration:\n",
        "lr_schedule = schedules.ExponentialDecay(initial_learning_rate=1e-3, \n",
        "                                         decay_steps=DECAY_STEPS, \n",
        "                                         decay_rate=DECAY_RATE)\n",
        "opt = Adam(learning_rate=lr_schedule)\n",
        "\n",
        "model.compile(optimizer=opt,\n",
        "              loss=\"categorical_crossentropy\",\n",
        "              metrics=[\"accuracy\"])\n",
        "\n",
        "model_history = model.fit(X_train, y_train, \n",
        "                          batch_size=BATCH_SIZE,\n",
        "                          epochs=EPOCH,\n",
        "                          verbose=0,\n",
        "                          validation_split=VAL_SPLIT,\n",
        "                          callbacks = [tensorboard_callbacks, \n",
        "                                       model_checkpoint_callback, \n",
        "                                       earlystopping_callback]\n",
        "                          )"
      ],
      "execution_count": null,
      "outputs": [
        {
          "output_type": "stream",
          "text": [
            "Model: \"sequential_7\"\n",
            "_________________________________________________________________\n",
            "Layer (type)                 Output Shape              Param #   \n",
            "=================================================================\n",
            "conv2d_35 (Conv2D)           (None, 64, 64, 32)        832       \n",
            "_________________________________________________________________\n",
            "batch_normalization_42 (Batc (None, 64, 64, 32)        128       \n",
            "_________________________________________________________________\n",
            "activation_42 (Activation)   (None, 64, 64, 32)        0         \n",
            "_________________________________________________________________\n",
            "max_pooling2d_34 (MaxPooling (None, 32, 32, 32)        0         \n",
            "_________________________________________________________________\n",
            "dropout_42 (Dropout)         (None, 32, 32, 32)        0         \n",
            "_________________________________________________________________\n",
            "conv2d_36 (Conv2D)           (None, 32, 32, 32)        25632     \n",
            "_________________________________________________________________\n",
            "batch_normalization_43 (Batc (None, 32, 32, 32)        128       \n",
            "_________________________________________________________________\n",
            "activation_43 (Activation)   (None, 32, 32, 32)        0         \n",
            "_________________________________________________________________\n",
            "max_pooling2d_35 (MaxPooling (None, 16, 16, 32)        0         \n",
            "_________________________________________________________________\n",
            "dropout_43 (Dropout)         (None, 16, 16, 32)        0         \n",
            "_________________________________________________________________\n",
            "conv2d_37 (Conv2D)           (None, 16, 16, 64)        51264     \n",
            "_________________________________________________________________\n",
            "batch_normalization_44 (Batc (None, 16, 16, 64)        256       \n",
            "_________________________________________________________________\n",
            "activation_44 (Activation)   (None, 16, 16, 64)        0         \n",
            "_________________________________________________________________\n",
            "max_pooling2d_36 (MaxPooling (None, 8, 8, 64)          0         \n",
            "_________________________________________________________________\n",
            "dropout_44 (Dropout)         (None, 8, 8, 64)          0         \n",
            "_________________________________________________________________\n",
            "conv2d_38 (Conv2D)           (None, 8, 8, 128)         204928    \n",
            "_________________________________________________________________\n",
            "batch_normalization_45 (Batc (None, 8, 8, 128)         512       \n",
            "_________________________________________________________________\n",
            "activation_45 (Activation)   (None, 8, 8, 128)         0         \n",
            "_________________________________________________________________\n",
            "max_pooling2d_37 (MaxPooling (None, 4, 4, 128)         0         \n",
            "_________________________________________________________________\n",
            "dropout_45 (Dropout)         (None, 4, 4, 128)         0         \n",
            "_________________________________________________________________\n",
            "conv2d_39 (Conv2D)           (None, 4, 4, 128)         409728    \n",
            "_________________________________________________________________\n",
            "batch_normalization_46 (Batc (None, 4, 4, 128)         512       \n",
            "_________________________________________________________________\n",
            "activation_46 (Activation)   (None, 4, 4, 128)         0         \n",
            "_________________________________________________________________\n",
            "max_pooling2d_38 (MaxPooling (None, 2, 2, 128)         0         \n",
            "_________________________________________________________________\n",
            "dropout_46 (Dropout)         (None, 2, 2, 128)         0         \n",
            "_________________________________________________________________\n",
            "flatten_7 (Flatten)          (None, 512)               0         \n",
            "_________________________________________________________________\n",
            "dense_7 (Dense)              (None, 16)                8208      \n",
            "_________________________________________________________________\n",
            "batch_normalization_47 (Batc (None, 16)                64        \n",
            "_________________________________________________________________\n",
            "activation_47 (Activation)   (None, 16)                0         \n",
            "_________________________________________________________________\n",
            "dropout_47 (Dropout)         (None, 16)                0         \n",
            "_________________________________________________________________\n",
            "Output_Layer (Dense)         (None, 4)                 68        \n",
            "=================================================================\n",
            "Total params: 702,260\n",
            "Trainable params: 701,460\n",
            "Non-trainable params: 800\n",
            "_________________________________________________________________\n",
            "WARNING:tensorflow:Callbacks method `on_train_batch_end` is slow compared to the batch time (batch time: 0.0171s vs `on_train_batch_end` time: 0.1221s). Check your callbacks.\n"
          ],
          "name": "stdout"
        }
      ]
    },
    {
      "cell_type": "code",
      "metadata": {
        "id": "frI7lfQ40ZVn",
        "colab": {
          "base_uri": "https://localhost:8080/"
        },
        "outputId": "9605c676-1655-4d21-9993-a1b30df63209"
      },
      "source": [
        "model.save(MODEL_NAME + \".h5\")\n",
        "model.evaluate(X_test, y_test, batch_size=8)"
      ],
      "execution_count": 12,
      "outputs": [
        {
          "output_type": "stream",
          "text": [
            "624/624 [==============================] - 2s 3ms/step - loss: 0.4015 - accuracy: 0.8561\n"
          ],
          "name": "stdout"
        },
        {
          "output_type": "execute_result",
          "data": {
            "text/plain": [
              "[0.40150097012519836, 0.8560545444488525]"
            ]
          },
          "metadata": {
            "tags": []
          },
          "execution_count": 12
        }
      ]
    },
    {
      "cell_type": "code",
      "metadata": {
        "id": "Z7_8UIcT2z7H"
      },
      "source": [
        "# !zip my_log_dir.zip my_log_dir/model-8-LastTRY_MaxPooling -r"
      ],
      "execution_count": null,
      "outputs": []
    }
  ]
}